{
  "nbformat": 4,
  "nbformat_minor": 0,
  "metadata": {
    "colab": {
      "name": "Check_convexity.ipynb",
      "provenance": []
    },
    "kernelspec": {
      "name": "python3",
      "display_name": "Python 3"
    }
  },
  "cells": [
    {
      "cell_type": "code",
      "metadata": {
        "id": "SH3-0cr1itCe",
        "colab_type": "code",
        "colab": {}
      },
      "source": [
        "import numpy as np"
      ],
      "execution_count": 1,
      "outputs": []
    },
    {
      "cell_type": "code",
      "metadata": {
        "id": "jBQdUa5liY4q",
        "colab_type": "code",
        "colab": {}
      },
      "source": [
        "def _gen_pairs(gen, max_iter, max_inner, random_state, verbose):\n",
        "    rng = np.random.RandomState(random_state)\n",
        "\n",
        "    # if tuple, interpret as randn\n",
        "    if isinstance(gen, tuple):\n",
        "        shape = gen\n",
        "        gen = lambda rng: rng.randn(*shape)\n",
        "\n",
        "    for it in range(max_iter):\n",
        "        if verbose:\n",
        "            print(\"iter\", it + 1)\n",
        "\n",
        "        M1 = gen(rng)\n",
        "        M2 = gen(rng)\n",
        "\n",
        "        for t in np.linspace(0.01, 0.99, max_inner):\n",
        "            M = t * M1 + (1 - t) * M2\n",
        "\n",
        "            yield M, M1, M2, t\n",
        "\n",
        "\n",
        "def check_convex(func, gen, max_iter=1000, max_inner=10,\n",
        "                 quasi=False, random_state=None, eps=1e-9, verbose=0):\n",
        "    \"\"\"\n",
        "    Numerically check whether the definition of a convex function holds for the\n",
        "    input function.\n",
        "\n",
        "    If answers \"not convex\", a counter-example has been found and\n",
        "    the function is guaranteed to be non-convex. Don't lose time proving its\n",
        "    convexity!\n",
        "\n",
        "    If answers \"could be convex\", you can't completely rule out the possibility\n",
        "    that the function is non-convex. To be completely sure, this needs to be\n",
        "    proved analytically.\n",
        "\n",
        "    This approach was explained by S. Boyd in his convex analysis lectures at\n",
        "    Stanford.\n",
        "\n",
        "    Parameters\n",
        "    ----------\n",
        "\n",
        "    func:\n",
        "        Function func(M) to be tested.\n",
        "\n",
        "    gen: tuple or function\n",
        "        If tuple, shape of the function argument M. Small arrays are recommended.\n",
        "        If function, function for generating M.\n",
        "\n",
        "    max_iter: int\n",
        "        Max number of trials.\n",
        "\n",
        "    max_inner: int\n",
        "        Max number of values between [0, 1] to be tested for the definition of\n",
        "        convexity.\n",
        "\n",
        "    quasi: bool (default=False)\n",
        "        If True, use quasi-convex definition instead of convex.\n",
        "\n",
        "    random_state: None or int\n",
        "        Random seed to be used.\n",
        "\n",
        "    eps: float\n",
        "        Tolerance.\n",
        "\n",
        "    verbose: int\n",
        "        Verbosity level.\n",
        "    \"\"\"\n",
        "\n",
        "    for M, M1, M2, t in _gen_pairs(gen, max_iter, max_inner,\n",
        "                                   random_state, verbose):\n",
        "        if quasi:\n",
        "            # quasi-convex     if f(M)  <= max(f(M1), f(M2))\n",
        "            # not quasi convex if f(M)  >  max(f(M1), f(M2))\n",
        "            diff = func(M) - max(func(M1), func(M2))\n",
        "        else:\n",
        "            # convex     if f(M)  <= t * f(M1) + (1 - t) * f(M2)\n",
        "            # non-convex if f(M)  >  t * f(M1) + (1 - t) * f(M2)\n",
        "            diff = func(M) - (t * func(M1) + (1 - t) * func(M2))\n",
        "\n",
        "        if diff > eps:\n",
        "            # We found a counter-example.\n",
        "            print(\"not convex (diff=%f)\" % diff)\n",
        "            return\n",
        "\n",
        "    # To be completely sure, this needs to be proved analytically.\n",
        "    print(\"could be convex\")\n",
        "\n"
      ],
      "execution_count": 3,
      "outputs": []
    },
    {
      "cell_type": "code",
      "metadata": {
        "id": "ANaR_rI1isDI",
        "colab_type": "code",
        "colab": {
          "base_uri": "https://localhost:8080/",
          "height": 35
        },
        "outputId": "ff20d86d-328c-4679-cdf1-359053663cd2"
      },
      "source": [
        "def sqnorm(x):\n",
        "    return np.dot(x, x)\n",
        "\n",
        "def sigmoid(x):\n",
        "    return 1/(1+np.exp(-x))\n",
        "\n",
        "check_convex(sigmoid, gen=(1,), max_iter=10000, max_inner=10,random_state=0)\n"
      ],
      "execution_count": 9,
      "outputs": [
        {
          "output_type": "stream",
          "text": [
            "not convex (diff=0.000722)\n"
          ],
          "name": "stdout"
        }
      ]
    },
    {
      "cell_type": "code",
      "metadata": {
        "id": "hbFEZ-kBjs0B",
        "colab_type": "code",
        "colab": {
          "base_uri": "https://localhost:8080/",
          "height": 35
        },
        "outputId": "667b2226-7336-4c01-df0a-7450b9dff7aa"
      },
      "source": [
        "sigmoid(np.array([1,2]))"
      ],
      "execution_count": 8,
      "outputs": [
        {
          "output_type": "execute_result",
          "data": {
            "text/plain": [
              "array([0.73105858, 0.88079708])"
            ]
          },
          "metadata": {
            "tags": []
          },
          "execution_count": 8
        }
      ]
    }
  ]
}