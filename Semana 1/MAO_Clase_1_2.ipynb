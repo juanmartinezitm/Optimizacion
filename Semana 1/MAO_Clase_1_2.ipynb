{
  "nbformat": 4,
  "nbformat_minor": 0,
  "metadata": {
    "colab": {
      "name": "MAO - Clase 1_2.ipynb",
      "provenance": [],
      "authorship_tag": "ABX9TyP40KIxHPXc4ejvy4Rc5ExH",
      "include_colab_link": true
    },
    "kernelspec": {
      "name": "python3",
      "display_name": "Python 3"
    }
  },
  "cells": [
    {
      "cell_type": "markdown",
      "metadata": {
        "id": "view-in-github",
        "colab_type": "text"
      },
      "source": [
        "<a href=\"https://colab.research.google.com/github/juanmartinezitm/Optimizacion/blob/master/Semana%201/MAO_Clase_1_2.ipynb\" target=\"_parent\"><img src=\"https://colab.research.google.com/assets/colab-badge.svg\" alt=\"Open In Colab\"/></a>"
      ]
    },
    {
      "cell_type": "markdown",
      "metadata": {
        "id": "80xpKAesSDxB",
        "colab_type": "text"
      },
      "source": [
        "# **Repaso de álgebra lineal**\n",
        "\n",
        "- Vectores\n",
        "- Subespacios\n",
        "- Normas\n",
        "- Producto interno\n",
        "- Eigenvalores y eigenvectores\n",
        "\n",
        "La información de este repaso se obtuvo en gran parte de los siguientes repositorios:\n",
        "\n",
        "https://madewithml.com/topics/linear-algebra/"
      ]
    },
    {
      "cell_type": "markdown",
      "metadata": {
        "id": "PCaXyvmOSrnv",
        "colab_type": "text"
      },
      "source": [
        "## Vectores\n",
        "\n",
        "Un vector es una colección de números \n",
        "\n",
        "https://es.wikipedia.org/wiki/Vector\n",
        "\n",
        "$\\Re:$ eje real \\\\\n",
        "$\\Re^n:$ espacio euclideano n-dimensional \\\\\n",
        "\\begin{equation}\n",
        "\\bf{x} = \n",
        "\\begin{bmatrix}\n",
        "    x_1 \\\\\n",
        "    x_2 \\\\\n",
        "    \\vdots \\\\\n",
        "    x_n\n",
        "\\end{bmatrix}\n",
        "\\in \\Re^n\n",
        "\\end{equation}\n"
      ]
    },
    {
      "cell_type": "code",
      "metadata": {
        "id": "f0uu6rG16Bw_",
        "colab_type": "code",
        "colab": {}
      },
      "source": [
        "def plotVectors(vecs, cols, alpha=1):\n",
        "    \"\"\"\n",
        "    Plot set of vectors.\n",
        "\n",
        "    Parameters\n",
        "    ----------\n",
        "    vecs : array-like\n",
        "        Coordinates of the vectors to plot. Each vectors is in an array. For\n",
        "        instance: [[1, 3], [2, 2]] can be used to plot 2 vectors.\n",
        "    cols : array-like\n",
        "        Colors of the vectors. For instance: ['red', 'blue'] will display the\n",
        "        first vector in red and the second in blue.\n",
        "    alpha : float\n",
        "        Opacity of vectors\n",
        "\n",
        "    Returns:\n",
        "\n",
        "    fig : instance of matplotlib.figure.Figure\n",
        "        The figure of the vectors\n",
        "    \"\"\"\n",
        "    plt.axvline(x=0, color='#A9A9A9', zorder=0)\n",
        "    plt.axhline(y=0, color='#A9A9A9', zorder=0)\n",
        "\n",
        "    for i in range(len(vecs)):\n",
        "        if (isinstance(alpha, list)):\n",
        "            alpha_i = alpha[i]\n",
        "        else:\n",
        "            alpha_i = alpha\n",
        "        x = np.concatenate([[0,0],vecs[i]])\n",
        "        plt.quiver([x[0]],\n",
        "                   [x[1]],\n",
        "                   [x[2]],\n",
        "                   [x[3]],\n",
        "                   angles='xy', scale_units='xy', scale=1, color=cols[i],\n",
        "                  alpha=alpha_i)\n",
        "        plt.grid(True)"
      ],
      "execution_count": null,
      "outputs": []
    },
    {
      "cell_type": "code",
      "metadata": {
        "id": "MVGXJ_dkifot",
        "colab_type": "code",
        "colab": {
          "base_uri": "https://localhost:8080/",
          "height": 305
        },
        "outputId": "25f0afb5-5242-47af-9048-8878b6b24ce2"
      },
      "source": [
        "import numpy as np\n",
        "import matplotlib.pyplot as plt\n",
        "\n",
        "#Definición de vector en R^2\n",
        "\n",
        "#Por facilidad para operaciones en Python, definiremos los vectores como matrices de numpy de nx1\n",
        "\n",
        "x = np.matrix([1,1]).T\n",
        "print(x.shape)\n",
        "\n",
        "fig  = plt.figure()\n",
        "ax = fig.add_subplot(111)\n",
        "plotVectors([np.array(x).flatten()], cols=['#1190FF'])\n",
        "plt.ylim(-2, 2)\n",
        "plt.xlim(-2, 2)"
      ],
      "execution_count": null,
      "outputs": [
        {
          "output_type": "stream",
          "text": [
            "(2, 1)\n"
          ],
          "name": "stdout"
        },
        {
          "output_type": "execute_result",
          "data": {
            "text/plain": [
              "(-2.0, 2.0)"
            ]
          },
          "metadata": {
            "tags": []
          },
          "execution_count": 19
        },
        {
          "output_type": "display_data",
          "data": {
            "image/png": "[encoded data removed]",
            "text/plain": [
              "<Figure size 432x288 with 1 Axes>"
            ]
          },
          "metadata": {
            "tags": [],
            "needs_background": "light"
          }
        }
      ]
    },
    {
      "cell_type": "code",
      "metadata": {
        "id": "ocZoyXf7SI8a",
        "colab_type": "code",
        "colab": {
          "base_uri": "https://localhost:8080/",
          "height": 266
        },
        "outputId": "11221583-696f-48b7-f588-48c8a9d54a7d"
      },
      "source": [
        "x = np.matrix([1,1,1]).T\n",
        "ori= np.matrix([0.,0.,0.]).T\n",
        "\n",
        "print(x.shape)\n",
        "\n",
        "fig  = plt.figure()\n",
        "ax = fig.add_subplot(111, projection='3d')\n",
        "ax.plot([ori[0,0], x[0,0]], [ori[1,0], x[1,0]],zs=[ori[2,0], x[2,0]])\n",
        "ax.set_xlim([-2,2]) \n",
        "ax.set_ylim([-2,2])\n",
        "ax.set_zlim([-2,2])\n",
        "ax.set_xlabel('x')\n",
        "ax.set_ylabel('y')\n",
        "ax.set_zlabel('z')\n",
        "\n",
        "ax.grid(True) "
      ],
      "execution_count": null,
      "outputs": [
        {
          "output_type": "stream",
          "text": [
            "(3, 1)\n"
          ],
          "name": "stdout"
        },
        {
          "output_type": "display_data",
          "data": {
            "image/png": "[encoded data removed]",
            "text/plain": [
              "<Figure size 432x288 with 1 Axes>"
            ]
          },
          "metadata": {
            "tags": [],
            "needs_background": "light"
          }
        }
      ]
    },
    {
      "cell_type": "markdown",
      "metadata": {
        "id": "hN9cP5_ams_W",
        "colab_type": "text"
      },
      "source": [
        "## Subespacios\n",
        "\n",
        "Un subespacio vectorial $\\mathcal{S}$ de $\\Re^n$ es un subconjunto no vacío (también de $\\Re^n$) que cumple las siguientes reglas:\n",
        "\n",
        "1. Si $\\bf{x}, \\bf{y} \\in \\mathcal{S}$, entonces $\\alpha \\bf{x} + \\beta \\bf{y} \\in \\mathcal{S} \\quad \\forall \\alpha,\\beta \\in \\Re$.\n",
        "2. Si $\\bf{x} \\in \\mathcal{S}$, entonces $\\alpha \\bf{x} \\in \\mathcal{S} \\quad \\forall \\alpha \\in \\Re$\n",
        "\n",
        "Sean $\\bf{x}, \\bf{y} \\in \\Re^n (\\mathcal{S})$, el subespacio lineal es la combinación  \n",
        "\n"
      ]
    },
    {
      "cell_type": "markdown",
      "metadata": {
        "id": "ZtfibbTnyYcG",
        "colab_type": "text"
      },
      "source": [
        "## Subespacio lineal ($\\mathcal{S}$)\n",
        "\n",
        "Sean $\\bf{x}, \\bf{y} \\in \\mathcal{S}$, el subespacio lineal es el resultado de las combinaciones lineales $\\alpha \\bf{x} + \\beta \\bf{y} \\in \\mathcal{S} \\quad \\forall \\alpha,\\beta \\in \\Re$.\n",
        "\n",
        "**Tarea:** Demostrar que el subespacio lineal es en verdad un subespacio de $\\Re^n$."
      ]
    },
    {
      "cell_type": "code",
      "metadata": {
        "id": "E0FIE0UzuPlu",
        "colab_type": "code",
        "colab": {
          "base_uri": "https://localhost:8080/",
          "height": 283
        },
        "outputId": "fec67c56-27ed-4485-fa6d-210881cec6bc"
      },
      "source": [
        "x = np.matrix([1,1]).T\n",
        "y = np.matrix([1,1]).T\n",
        "\n",
        "a = np.linspace(-2,2,100)\n",
        "b = np.linspace(-2,2,100)\n",
        "\n",
        "S = np.empty_like(x)\n",
        "print(S.shape)\n",
        "for i in range(len(a)):\n",
        "  for j in range(len(b)):\n",
        "    v = a[i]*x + b[j]*y\n",
        "    S = np.append(S,v,axis = 1)\n",
        "\n",
        "fig = plt.figure()\n",
        "ax = fig.add_subplot(111)\n",
        "ax.plot(S[0,:].T,S[1,:].T)\n",
        "ax.grid(True)"
      ],
      "execution_count": null,
      "outputs": [
        {
          "output_type": "stream",
          "text": [
            "(2, 1)\n"
          ],
          "name": "stdout"
        },
        {
          "output_type": "display_data",
          "data": {
            "image/png": "[encoded data removed]",
            "text/plain": [
              "<Figure size 432x288 with 1 Axes>"
            ]
          },
          "metadata": {
            "tags": [],
            "needs_background": "light"
          }
        }
      ]
    },
    {
      "cell_type": "markdown",
      "metadata": {
        "id": "IX5kjNyhycrI",
        "colab_type": "text"
      },
      "source": [
        "## Subespacio afín ($\\mathcal{Q}$)\n",
        "\n",
        "Un subespacio afín $\\mathcal{Q}$ se puede definir a partir del subespacio lineal $\\mathcal{S}$ de la siguiente forma:\n",
        "\n",
        "\\begin{equation}\n",
        "\\mathcal{Q} = \\mathcal{S} + \\bf{b} = \\{ \\bf{y} = \\bf{x} + \\bf{b} : \\bf{x} \\in \\mathcal{S}, b \\in \\Re^n \\} \n",
        "\\end{equation}\n",
        "\n",
        "**Tarea:** Demostrar que si $\\bf{v}, \\bf{w} \\in \\mathcal{Q}$, entonces $\\alpha \\bf{v} + \\beta \\bf{w} \\in \\mathcal{Q}$ ssi $\\alpha + \\beta = 1$\n",
        "\n"
      ]
    },
    {
      "cell_type": "code",
      "metadata": {
        "id": "QVRtLvW0z80v",
        "colab_type": "code",
        "colab": {
          "base_uri": "https://localhost:8080/",
          "height": 265
        },
        "outputId": "99c6c354-1f87-460a-ad16-1a11a8f82cee"
      },
      "source": [
        "x = np.matrix([1,1]).T\n",
        "y = np.matrix([1,1]).T\n",
        "b = np.matrix([2,3]).T\n",
        "\n",
        "alpha = np.linspace(-2,2,100)\n",
        "beta = 1 - alpha\n",
        "\n",
        "Q = np.empty_like(x)\n",
        "\n",
        "for i in range(len(alpha)):\n",
        "  for j in range(len(beta)):\n",
        "    v = alpha[i]*x + beta[j]*y + b\n",
        "    Q = np.append(Q,v,axis = 1)\n",
        "\n",
        "fig = plt.figure()\n",
        "ax = fig.add_subplot(111)\n",
        "ax.plot(Q[0,:].T,Q[1,:].T)\n",
        "ax.grid(True)"
      ],
      "execution_count": null,
      "outputs": [
        {
          "output_type": "display_data",
          "data": {
            "image/png": "[encoded data removed]",
            "text/plain": [
              "<Figure size 432x288 with 1 Axes>"
            ]
          },
          "metadata": {
            "tags": [],
            "needs_background": "light"
          }
        }
      ]
    },
    {
      "cell_type": "markdown",
      "metadata": {
        "id": "xmwd5fXE1IB6",
        "colab_type": "text"
      },
      "source": [
        "**Tarea:** Graficar subespacios lineales y afines de $\\Re^3$"
      ]
    },
    {
      "cell_type": "markdown",
      "metadata": {
        "id": "2gIUAAUQVxaV",
        "colab_type": "text"
      },
      "source": [
        "## Norma vectorial\n",
        "\n",
        "La norma de un vector $\\bf{x}$, denotada como $||\\bf{x}||$, es una función que cumple con las siguientes propiedades:\n",
        "\n",
        "1. $||\\mathbf{x}|| \\geq 0$ \n",
        "2. $||\\mathbf{x}|| = 0$ ssi $||\\bf{x}|| = \\bf{0}$ \n",
        "3. $||\\alpha \\mathbf{x}|| = |\\alpha| ||\\mathbf{x}||$\n",
        "4. $||\\mathbf{x}+\\mathbf{y}||\\leq||\\mathbf{x}|| + ||\\mathbf{y}||$\n",
        "\n",
        "- **Norma euclideana**\n",
        "\n",
        "$\\displaystyle ||\\mathbf{x}||_2 =(\\sum_{i=1}^n |x_i|^2)^{\\frac{1}{2}} = (\\mathbf{x}^{\\top} \\mathbf{x})^{\\frac{1}{2}}$\n"
      ]
    },
    {
      "cell_type": "code",
      "metadata": {
        "id": "Vz0mPCTA1YBN",
        "colab_type": "code",
        "colab": {
          "base_uri": "https://localhost:8080/",
          "height": 35
        },
        "outputId": "86d92896-76e9-4e2f-b364-8df49117e8f2"
      },
      "source": [
        "import numpy as np\n",
        "import matplotlib.pyplot as plt\n",
        "x = np.mat([1,2]).T\n",
        "norm_x = np.linalg.norm(x)\n",
        "\n",
        "y = np.mat([2,3]).T\n",
        "norm_y = np.linalg.norm(y)\n",
        "\n",
        "z = x + y\n",
        "\n",
        "norm_z = np.linalg.norm(z)\n",
        "\n",
        "print(norm_x + norm_y, norm_z)"
      ],
      "execution_count": null,
      "outputs": [
        {
          "output_type": "stream",
          "text": [
            "5.841619252963779 5.830951894845301\n"
          ],
          "name": "stdout"
        }
      ]
    },
    {
      "cell_type": "code",
      "metadata": {
        "id": "9TSiOu-UbntK",
        "colab_type": "code",
        "colab": {
          "base_uri": "https://localhost:8080/",
          "height": 265
        },
        "outputId": "95ee5afe-2bf3-4f75-9dc7-90ba4f11dd4e"
      },
      "source": [
        "u = [0,0,1,6]\n",
        "v = [0,0,4,2]\n",
        "u_bis = [1,6,v[2],v[3]]\n",
        "w = [0,0,5,8]\n",
        "plt.quiver([u[0], u_bis[0], w[0]],\n",
        "           [u[1], u_bis[1], w[1]],\n",
        "           [u[2], u_bis[2], w[2]],\n",
        "           [u[3], u_bis[3], w[3]],\n",
        "           angles='xy', scale_units='xy', scale=1)\n",
        "# plt.rc('text', usetex=True)\n",
        "plt.xlim(-2, 6)\n",
        "plt.ylim(-2, 9)\n",
        "plt.axvline(x=0, color='grey')\n",
        "plt.axhline(y=0, color='grey')\n",
        "\n",
        "plt.text(-1, 3.5, r'$||\\vec{u}||$',  size=20)\n",
        "plt.text(2.5, 7.5, r'$||\\vec{v}||$',  size=20)\n",
        "plt.text(2, 2, r'$||\\vec{u}+\\vec{v}||$', size=20)\n",
        "\n",
        "plt.show()\n",
        "plt.close()\n",
        "\n"
      ],
      "execution_count": null,
      "outputs": [
        {
          "output_type": "display_data",
          "data": {
            "image/png": "[encoded data removed]",
            "text/plain": [
              "<Figure size 432x288 with 1 Axes>"
            ]
          },
          "metadata": {
            "tags": [],
            "needs_background": "light"
          }
        }
      ]
    },
    {
      "cell_type": "markdown",
      "metadata": {
        "id": "go5oL9CuaimO",
        "colab_type": "text"
      },
      "source": [
        "- **Norma $l_p$**\n",
        "\n",
        "$\\displaystyle ||\\mathbf{x}||_p =(\\sum_{i=1}^n |x_i|^p)^{\\frac{1}{p}}$\n",
        "\n",
        "- **Norma $l_1$**\n",
        "\n",
        "$\\displaystyle ||\\mathbf{x}||_1 =\\sum_{i=1}^n |x_i|$\n",
        "\n",
        "- **Norma $l_\\infty$**\n",
        "\n",
        "$\\displaystyle ||\\mathbf{x}||_\\infty =\\max_i{|x_i|}$\n"
      ]
    },
    {
      "cell_type": "markdown",
      "metadata": {
        "id": "DWZq2GKsdHKk",
        "colab_type": "text"
      },
      "source": [
        "# Norma matricial\n",
        "\n",
        "- **Norma Frobenius**\n",
        "\n",
        "$||\\mathbf{A}||_F = (\\sum_{i,j} (a_{i,j})2)^{\\frac{1}{2}} = tr(\\mathbf{A}^{\\top} \\mathbf{A})$"
      ]
    },
    {
      "cell_type": "markdown",
      "metadata": {
        "id": "vqnLsyP0djua",
        "colab_type": "text"
      },
      "source": [
        "# Producto interno\n",
        "Sean $\\mathbf{x}, \\mathbf{y} \\in \\Re^n$, el producto interno entre estos dos vectores están definidos como:\n",
        "\n",
        "$<\\mathbf{x},\\mathbf{y}> = \\mathbf{x}^{\\top}\\mathbf{y} =\\sum_{i=1}^m x_iy_i$\n",
        "\n",
        "La norma euclidea $l_2$ se puede definir a partir del producto interno como:\n",
        "\n",
        "$||\\mathbf{x}||_2 = (<\\mathbf{x},\\mathbf{x}>)^{\\frac{1}{2}}$"
      ]
    },
    {
      "cell_type": "markdown",
      "metadata": {
        "id": "gxHjkG9HfBT-",
        "colab_type": "text"
      },
      "source": [
        "# Producto interno matricial\n",
        "\n",
        "$<\\mathbf{A},\\mathbf{B}>_F = tr(\\mathbf{A}^{\\top} \\mathbf{B}) = \\sum_{i,j} a_{i,j}b_{i,j} = tr(\\mathbf{A}\\mathbf{B}^{\\top})$"
      ]
    },
    {
      "cell_type": "markdown",
      "metadata": {
        "id": "ypRpqVAL9-pr",
        "colab_type": "text"
      },
      "source": [
        "# Matrices como transformaciones lineales\n",
        "\n",
        "Podemos pensar en las matrices como transformaciones lineales. Algunas matrices rotarán su espacio de coordenadas, otras lo re-escalarán. Así, cuando aplicamos una matriz a un vector, terminamos con una versión transformada de nuestro vector.\n",
        "\n"
      ]
    },
    {
      "cell_type": "code",
      "metadata": {
        "id": "RfR0qYuY-iWs",
        "colab_type": "code",
        "colab": {
          "base_uri": "https://localhost:8080/",
          "height": 287
        },
        "outputId": "0b8938db-5c6d-406b-9a4e-c747f455aad5"
      },
      "source": [
        "A = np.matrix([[-1, 0], [0, -1]])\n",
        "x = np.matrix([2,1]).T\n",
        "\n",
        "xt = A @ x\n",
        "\n",
        "fig  = plt.figure()\n",
        "ax = fig.add_subplot(111)\n",
        "vecs = []\n",
        "vecs.append(np.array(x).flatten())\n",
        "vecs.append(np.array(xt).flatten())\n",
        "\n",
        "plotVectors(vecs,cols=['#1190FF', '#FF9A13'])\n",
        "plt.ylim(-3, 3)\n",
        "plt.xlim(-3, 3)\n"
      ],
      "execution_count": null,
      "outputs": [
        {
          "output_type": "execute_result",
          "data": {
            "text/plain": [
              "(-3.0, 3.0)"
            ]
          },
          "metadata": {
            "tags": []
          },
          "execution_count": 26
        },
        {
          "output_type": "display_data",
          "data": {
            "image/png": "[encoded data removed]",
            "text/plain": [
              "<Figure size 432x288 with 1 Axes>"
            ]
          },
          "metadata": {
            "tags": [],
            "needs_background": "light"
          }
        }
      ]
    },
    {
      "cell_type": "markdown",
      "metadata": {
        "id": "tuaXUC4B4ceD",
        "colab_type": "text"
      },
      "source": [
        "# Eigenvalores y Eigenvectores\n",
        "\n",
        "Sea $\\mathbf{A} \\in \\Re^{n \\times n}$, su eigendescomposición está dada por:\n",
        "\n",
        "\\begin{equation}\n",
        "\\mathbf{A}\\mathbf{s}_k = \\lambda_k \\mathbf{s}_k\n",
        "\\end{equation}\n",
        "\n",
        "donde $\\mathbf{s}_k \\in \\Re^{n \\times 1}$ es el $k-$ésimo eigenvector de $\\mathbf{A}$ y $\\lambda_k \\in \\Re$ el eigenvalor relacionado con el $k-$ésimo eigenvector. Esto significa que el vector de salida es una versión escalada del vector de entrada.\n",
        "\n"
      ]
    },
    {
      "cell_type": "code",
      "metadata": {
        "id": "TrQDEchb_8W5",
        "colab_type": "code",
        "colab": {
          "base_uri": "https://localhost:8080/",
          "height": 342
        },
        "outputId": "aad46174-f659-422c-b34a-30cd0c0d5343"
      },
      "source": [
        "A = np.matrix([[5, 1], [3, 3]])\n",
        "eigvals,eigvecs = np.linalg.eig(A)\n",
        "\n",
        "print(eigvals)\n",
        "print(eigvecs)\n",
        "\n",
        "s0 = eigvecs[:,0]\n",
        "l0 = eigvals[0]\n",
        "\n",
        "left = A@s0\n",
        "right = l0 * s0\n",
        "\n",
        "fig  = plt.figure()\n",
        "ax = fig.add_subplot(111)\n",
        "vecs = []\n",
        "vecs.append(np.array(s0).flatten())\n",
        "vecs.append(np.array(left).flatten())\n",
        "\n",
        "plotVectors(vecs,cols=['#1190FF', '#FF9A13'])\n",
        "plt.ylim(-1, 5)\n",
        "plt.xlim(-1, 5)"
      ],
      "execution_count": null,
      "outputs": [
        {
          "output_type": "stream",
          "text": [
            "[6. 2.]\n",
            "[[ 0.70710678 -0.31622777]\n",
            " [ 0.70710678  0.9486833 ]]\n"
          ],
          "name": "stdout"
        },
        {
          "output_type": "execute_result",
          "data": {
            "text/plain": [
              "(-1.0, 5.0)"
            ]
          },
          "metadata": {
            "tags": []
          },
          "execution_count": 31
        },
        {
          "output_type": "display_data",
          "data": {
            "image/png": "[encoded data removed]",
            "text/plain": [
              "<Figure size 432x288 with 1 Axes>"
            ]
          },
          "metadata": {
            "tags": [],
            "needs_background": "light"
          }
        }
      ]
    },
    {
      "cell_type": "markdown",
      "metadata": {
        "id": "K6IWxD2vA_kV",
        "colab_type": "text"
      },
      "source": [
        "# Descomposición en eigenvalores y eigenvectores\n",
        "\n",
        "Sea $\\mathbf{A} \\in \\Re^{n \\times n}$ una matriz con $n$ eigenvectores linealmente independientes, entonces:\n",
        "\n",
        "\\begin{equation}\n",
        "\\mathbf{S} = \n",
        "\\begin{bmatrix}\n",
        "\\mathbf{s}_1 & | & \\ldots | \\mathbf{s}_n\n",
        "\\end{bmatrix} \\in \\Re^{n \\times n}\n",
        "\\end{equation}\n",
        "\n",
        "\\begin{equation}\n",
        "\\mathbf{\\Lambda} = \n",
        "\\begin{bmatrix}\n",
        "\\lambda_1 & 0 & \\ldots 0 \\\\\n",
        "0         & \\lambda_2 & \\ldots & 0 \\\\\n",
        "\\vdots    & \\vdots    & \\vdots & \\vdots \\\\\n",
        "0         & 0         & \\ldots & \\lambda_n \n",
        "\\end{bmatrix} \\in \\Re^{n \\times n}\n",
        "\\end{equation}\n",
        "\n",
        "Entonces \n",
        "\n",
        "\\begin{align}\n",
        "\\mathbf{AS} &= \\mathbf{S \\Lambda}\\\\\n",
        "\\mathbf{A} &= \\mathbf{S \\Lambda} \\mathbf{S}^{-1}\n",
        "\\end{align}\n",
        "\n",
        "Si $\\mathbf{s}_i \\bot \\mathbf{s}_j$, entonces:\n",
        "\n",
        "\\begin{align}\n",
        "\\mathbf{AS} &= \\mathbf{S \\Lambda}\\\\\n",
        "\\mathbf{A} &= \\mathbf{S \\Lambda} \\mathbf{S}^{T}\n",
        "\\end{align}\n",
        "\n",
        "Si $\\mathbf{A} \\in \\Re^{n \\times n}$ es simétrica, entonces sus eigenvalores serán ortogonales. ¿Por qué?\n",
        "\n"
      ]
    },
    {
      "cell_type": "markdown",
      "metadata": {
        "id": "cBt6KHVIDr3B",
        "colab_type": "text"
      },
      "source": [
        "# Operaciones con eigenvalores y eigenvectores\n",
        "\n",
        "\\begin{align*}\n",
        "\\mathbf{A} &= \\mathbf{S} \\mathbf{\\Lambda} \\mathbf{S}^{\\top} \\\\\n",
        "\\mathbf{A}^{-1} & = \\\\\n",
        "\\mathbf{A}^{2} & = \\\\\n",
        "\\mathbf{A}^{p} & = \\\\\n",
        "\\end{align*}"
      ]
    },
    {
      "cell_type": "markdown",
      "metadata": {
        "id": "vdnaLTlWF3vg",
        "colab_type": "text"
      },
      "source": [
        "# Tarea\n",
        "\n",
        "1. Comprobar las propiedades anteriores para alguna matrix.\n",
        "2. Consultar la descomposición en valores singulares. ¿Cuál es la relación entre los valores singulares y los eigenvalores? ¿Cuál es la relación entre los vectores singulares y los eigenvectores?"
      ]
    }
  ]
}